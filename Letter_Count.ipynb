{
 "cells": [
  {
   "cell_type": "code",
   "execution_count": 4,
   "metadata": {},
   "outputs": [],
   "source": [
    "def letter_count(s):\n",
    "    \n",
    "    s1 = s.replace(\" \",\"\").lower()\n",
    "    \n",
    "    dictionary = {}\n",
    "    \n",
    "    for letter in s1:\n",
    "        if letter not in dictionary:\n",
    "            dictionary[letter] = 1\n",
    "        else:\n",
    "            dictionary[letter] +=1\n",
    "            \n",
    "    return dictionary"
   ]
  }
 ],
 "metadata": {
  "kernelspec": {
   "display_name": "Python 3",
   "language": "python",
   "name": "python3"
  },
  "language_info": {
   "codemirror_mode": {
    "name": "ipython",
    "version": 3
   },
   "file_extension": ".py",
   "mimetype": "text/x-python",
   "name": "python",
   "nbconvert_exporter": "python",
   "pygments_lexer": "ipython3",
   "version": "3.6.3"
  }
 },
 "nbformat": 4,
 "nbformat_minor": 2
}
