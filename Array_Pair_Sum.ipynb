{
 "cells": [
  {
   "cell_type": "code",
   "execution_count": 10,
   "metadata": {},
   "outputs": [],
   "source": [
    "def array_pair_sum(arr,k):\n",
    "    if len(arr) < 2:\n",
    "        return \"There are not enough values in the array\"\n",
    "    \n",
    "    output = set()\n",
    "    \n",
    "    for num in arr:\n",
    "        target = k - num\n",
    "        \n",
    "        output.add((min(num,target),max(num,target)))\n",
    "    \n",
    "    print('\\n'.join(map(str,list(output))))"
   ]
  },
  {
   "cell_type": "code",
   "execution_count": 11,
   "metadata": {},
   "outputs": [
    {
     "name": "stdout",
     "output_type": "stream",
     "text": [
      "(10, 40)\n",
      "(0, 50)\n",
      "(20, 30)\n"
     ]
    }
   ],
   "source": [
    "array_pair_sum([10,20,30,40,50],50)"
   ]
  },
  {
   "cell_type": "code",
   "execution_count": null,
   "metadata": {},
   "outputs": [],
   "source": []
  }
 ],
 "metadata": {
  "kernelspec": {
   "display_name": "Python 3",
   "language": "python",
   "name": "python3"
  },
  "language_info": {
   "codemirror_mode": {
    "name": "ipython",
    "version": 3
   },
   "file_extension": ".py",
   "mimetype": "text/x-python",
   "name": "python",
   "nbconvert_exporter": "python",
   "pygments_lexer": "ipython3",
   "version": "3.6.3"
  }
 },
 "nbformat": 4,
 "nbformat_minor": 2
}
