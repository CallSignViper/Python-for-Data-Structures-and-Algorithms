{
 "cells": [
  {
   "cell_type": "code",
   "execution_count": 3,
   "metadata": {},
   "outputs": [],
   "source": [
    "# Iterative Version\n",
    "def sentence_reversal(s):\n",
    "    \n",
    "    lst = s.split()\n",
    "    idx = len(lst) - 1\n",
    "    rev_lst = []\n",
    "       \n",
    "    for word in lst:\n",
    "        rev_lst.append(lst[idx])\n",
    "        idx -= 1\n",
    "\n",
    "    return \" \".join(rev_lst)"
   ]
  },
  {
   "cell_type": "code",
   "execution_count": 4,
   "metadata": {},
   "outputs": [
    {
     "data": {
      "text/plain": [
       "'you are how'"
      ]
     },
     "execution_count": 4,
     "metadata": {},
     "output_type": "execute_result"
    }
   ],
   "source": [
    "sentence_reversal(\"how are you\")"
   ]
  },
  {
   "cell_type": "code",
   "execution_count": 25,
   "metadata": {},
   "outputs": [],
   "source": [
    "# Recursive Version\n",
    "def reverse(lst):\n",
    "    \n",
    "    # base case\n",
    "    \n",
    "    if len(lst) <= 1:\n",
    "        return lst[0]\n",
    "    \n",
    "    # Recursion\n",
    "    return reverse(lst[1:]) + lst[0]\n",
    "        "
   ]
  },
  {
   "cell_type": "code",
   "execution_count": 26,
   "metadata": {},
   "outputs": [
    {
     "data": {
      "text/plain": [
       "'youarehow'"
      ]
     },
     "execution_count": 26,
     "metadata": {},
     "output_type": "execute_result"
    }
   ],
   "source": [
    "reverse(['how','are','you'])"
   ]
  },
  {
   "cell_type": "code",
   "execution_count": 42,
   "metadata": {},
   "outputs": [],
   "source": [
    "# example\n",
    "def reverse_list(lst):\n",
    "    \n",
    "    # base case\n",
    "    \n",
    "    if len(s) <= 1:\n",
    "        return s\n",
    "    \n",
    "    # Recursion\n",
    "    return reverse(s[1:]) + s[0]"
   ]
  },
  {
   "cell_type": "code",
   "execution_count": 17,
   "metadata": {},
   "outputs": [
    {
     "data": {
      "text/plain": [
       "['are', 'you']"
      ]
     },
     "execution_count": 17,
     "metadata": {},
     "output_type": "execute_result"
    }
   ],
   "source": [
    "s = 'how are you'\n",
    "s= s.split()\n",
    "s[1:]"
   ]
  },
  {
   "cell_type": "code",
   "execution_count": 20,
   "metadata": {},
   "outputs": [],
   "source": [
    "# iterative version\n",
    "\n",
    "def iter_sent_rev(s,lst=[],rev_lst=[]):\n",
    "    \n",
    "    s1 = s.split()\n",
    "    idx = len(s1)-1\n",
    "    \n",
    "    for word in s1:\n",
    "        rev_lst.append(s1[idx])\n",
    "        idx -= 1\n",
    "    \n",
    "    return rev_lst"
   ]
  },
  {
   "cell_type": "code",
   "execution_count": 21,
   "metadata": {},
   "outputs": [
    {
     "data": {
      "text/plain": [
       "['string', 'a', 'is', 'This']"
      ]
     },
     "execution_count": 21,
     "metadata": {},
     "output_type": "execute_result"
    }
   ],
   "source": [
    "iter_sent_rev(\"This is a string\")"
   ]
  },
  {
   "cell_type": "code",
   "execution_count": 63,
   "metadata": {},
   "outputs": [],
   "source": [
    "def rec_rev_sent(s):    \n",
    "    \n",
    "    if type(s) != list:\n",
    "        return \"Enter data as a list\"\n",
    "    # base case\n",
    "    \n",
    "    if len(s) <= 1:\n",
    "        return s[0]\n",
    "    \n",
    "    return rec_rev_sent(s[1:]) + \" \" + s[0]"
   ]
  },
  {
   "cell_type": "code",
   "execution_count": 65,
   "metadata": {},
   "outputs": [
    {
     "data": {
      "text/plain": [
       "'String Some'"
      ]
     },
     "execution_count": 65,
     "metadata": {},
     "output_type": "execute_result"
    }
   ],
   "source": [
    "rec_rev_sent(['Some', 'String'])"
   ]
  },
  {
   "cell_type": "code",
   "execution_count": 58,
   "metadata": {},
   "outputs": [
    {
     "data": {
      "text/plain": [
       "['some', 'string']"
      ]
     },
     "execution_count": 58,
     "metadata": {},
     "output_type": "execute_result"
    }
   ],
   "source": [
    "s2 = \"some string\"\n",
    "s3 = s2.split()\n",
    "s3"
   ]
  },
  {
   "cell_type": "code",
   "execution_count": null,
   "metadata": {},
   "outputs": [],
   "source": []
  }
 ],
 "metadata": {
  "kernelspec": {
   "display_name": "Python 3",
   "language": "python",
   "name": "python3"
  },
  "language_info": {
   "codemirror_mode": {
    "name": "ipython",
    "version": 3
   },
   "file_extension": ".py",
   "mimetype": "text/x-python",
   "name": "python",
   "nbconvert_exporter": "python",
   "pygments_lexer": "ipython3",
   "version": "3.6.3"
  }
 },
 "nbformat": 4,
 "nbformat_minor": 2
}
