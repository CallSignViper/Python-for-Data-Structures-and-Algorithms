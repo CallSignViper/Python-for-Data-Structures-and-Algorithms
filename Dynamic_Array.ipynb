{
 "cells": [
  {
   "cell_type": "code",
   "execution_count": 1,
   "metadata": {},
   "outputs": [],
   "source": [
    "import ctypes\n",
    "\n",
    "class Dynamic_Array:\n",
    "    def __init__(self):\n",
    "        self.size = 0\n",
    "        self.capacity = 1\n",
    "        self.A = self.make_array(self.capacity)\n",
    "    \n",
    "    def make_array(self,new_cap):\n",
    "        return (new_cap * ctype.py_object())\n",
    "    \n",
    "    def _resize(self,new_cap):\n",
    "        B = self.make_array(new_cap)\n",
    "        \n",
    "        for index in range(self.n):\n",
    "            B[index] = self.A[index]\n",
    "        \n",
    "        self.A = B\n",
    "        self.capacity = new_cap\n",
    "    \n",
    "    def append(self,data):\n",
    "        if self.n == self.capacity:\n",
    "            _resize(self.capacity*2)\n",
    "        \n",
    "        self.A[self.n] = data\n",
    "        self.n += 1\n",
    "    \n",
    "    def __getitem__(self,value):\n",
    "        if not 0 <= value < self.n:\n",
    "            return IndexError(\"Input is out of array bounds!\")\n",
    "        return self.A[value]"
   ]
  },
  {
   "cell_type": "code",
   "execution_count": null,
   "metadata": {},
   "outputs": [],
   "source": []
  }
 ],
 "metadata": {
  "kernelspec": {
   "display_name": "Python 3",
   "language": "python",
   "name": "python3"
  },
  "language_info": {
   "codemirror_mode": {
    "name": "ipython",
    "version": 3
   },
   "file_extension": ".py",
   "mimetype": "text/x-python",
   "name": "python",
   "nbconvert_exporter": "python",
   "pygments_lexer": "ipython3",
   "version": "3.6.3"
  }
 },
 "nbformat": 4,
 "nbformat_minor": 2
}
