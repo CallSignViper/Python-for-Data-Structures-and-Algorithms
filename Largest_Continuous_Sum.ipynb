{
 "cells": [
  {
   "cell_type": "markdown",
   "metadata": {},
   "source": [
    "### Largest Continous Sum\n",
    "1. start summing up the numbers and store in the current sum variable\n",
    "2. after adding each element, check whether the current sum is larger than max sum encountered so far\n",
    "3. if it is, update the max sum\n",
    "4. as long as the current_sum is positive, keep adding the numbers\n",
    "5. when the current_sum becomes negative, start with a new current_sum\n",
    "6. because a negative current sum will only decrease the sum of a future sequence\n",
    "7. the current_sum is not 0 because the array would only contain all negative numbers"
   ]
  },
  {
   "cell_type": "code",
   "execution_count": 11,
   "metadata": {},
   "outputs": [],
   "source": [
    "def large_continous_sum(arr):\n",
    "    \n",
    "    # edge case\n",
    "    if len(arr) == 0:\n",
    "        return 0\n",
    "    \n",
    "    # mxsum and crntsum are equal to the first element\n",
    "    max_sum = current_sum = arr[0]\n",
    "    \n",
    "    # arr[1:] skips first element since it is already set\n",
    "    for num in arr[1:]:\n",
    "        \n",
    "        # reset current sum\n",
    "        current_sum = max(current_sum + num,num)\n",
    "        \n",
    "        # reset max sum\n",
    "        max_sum = max(current_sum,max_sum)\n",
    "        \n",
    "    return max_sum"
   ]
  },
  {
   "cell_type": "code",
   "execution_count": 12,
   "metadata": {},
   "outputs": [
    {
     "data": {
      "text/plain": [
       "29"
      ]
     },
     "execution_count": 12,
     "metadata": {},
     "output_type": "execute_result"
    }
   ],
   "source": [
    "large_continous_sum([1,2,-1,3,4,10,10,-10,-1])"
   ]
  }
 ],
 "metadata": {
  "kernelspec": {
   "display_name": "Python 3",
   "language": "python",
   "name": "python3"
  },
  "language_info": {
   "codemirror_mode": {
    "name": "ipython",
    "version": 3
   },
   "file_extension": ".py",
   "mimetype": "text/x-python",
   "name": "python",
   "nbconvert_exporter": "python",
   "pygments_lexer": "ipython3",
   "version": "3.6.3"
  }
 },
 "nbformat": 4,
 "nbformat_minor": 2
}
