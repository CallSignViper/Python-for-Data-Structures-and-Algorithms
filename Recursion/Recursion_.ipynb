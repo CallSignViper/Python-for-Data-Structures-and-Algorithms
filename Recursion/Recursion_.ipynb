{
 "cells": [
  {
   "cell_type": "code",
   "execution_count": 1,
   "metadata": {},
   "outputs": [],
   "source": [
    "def recursive_sum_function(n):\n",
    "    # base case\n",
    "    if n == 0:\n",
    "        return 0\n",
    "    else:\n",
    "        return n + recursive_sum_function(n-1)"
   ]
  },
  {
   "cell_type": "code",
   "execution_count": 4,
   "metadata": {},
   "outputs": [],
   "source": [
    "def fact(n):\n",
    "    \n",
    "    # 1. Global frame for the function fact(n) is created\n",
    "    # 2. The value from the function call is passed into the function\n",
    "    # 3. The base case is checked\n",
    "    # 4. The else statement is exectuted\n",
    "    # 5. Values are created for each frame of fact\n",
    "    # 6. Once n = 1 then 1 is return for the value of fact(n)\n",
    "    # 7. Now all of the frames values are multiplied together one by one and the output is given\n",
    "    \n",
    "    # Base Case\n",
    "    if n == 1:\n",
    "        return 1\n",
    "    else:\n",
    "        return n * fact(n-1)"
   ]
  },
  {
   "cell_type": "code",
   "execution_count": 5,
   "metadata": {},
   "outputs": [],
   "source": [
    "# The function below creates frames for each number in the function call by dividing the number by 10 until there is only...\n",
    "# one number left.  The it adds up the values for each frame which is n%10.\n",
    "\n",
    "def rec_intdiv(n):\n",
    "    \n",
    "    # base case\n",
    "    \n",
    "    if len(str(n)) == 1:\n",
    "        return n\n",
    "    \n",
    "    else:\n",
    "        \n",
    "        return n%10 + rec_intdiv(n//10)"
   ]
  },
  {
   "cell_type": "code",
   "execution_count": 6,
   "metadata": {},
   "outputs": [],
   "source": [
    "# Reverse a string\n",
    "# Creates a global frame for the function reverse(s)\n",
    "# Takes in the argument from the function call\n",
    "# Checks the base case\n",
    "# Else is executed; the recursive function call is executed to create the value for the frame\n",
    "# Once the else case is met each value of the frames are concatened \n",
    "\n",
    "\n",
    "def reverse(s):\n",
    "    \n",
    "    # base case\n",
    "    \n",
    "    if len(s) <= 1:\n",
    "        return s\n",
    "    \n",
    "    # Recursion\n",
    "    return reverse(s[1:]) + s[0]"
   ]
  },
  {
   "cell_type": "code",
   "execution_count": 7,
   "metadata": {},
   "outputs": [],
   "source": [
    "def fib_rec(n):\n",
    "    \n",
    "    # Base Case\n",
    "    if n == 0 or n ==1:\n",
    "        return n\n",
    "    \n",
    "    # Recursive Case\n",
    "    \n",
    "    else:\n",
    "        return fib_rec(n-1) + fib_rec(n-2)"
   ]
  },
  {
   "cell_type": "code",
   "execution_count": 8,
   "metadata": {},
   "outputs": [],
   "source": [
    "input_str_1 = \"lucidProgramming\"\n",
    "input_str_2 = \"LucidProgramming\"\n",
    "input_str_3 = \"lucidprogramming\"\n",
    "\n",
    "def find_uppercase_recursive(input_str, idx=0):\n",
    "    \n",
    "    if input_str[idx].isupper():\n",
    "        return input_str[idx]\n",
    "    if idx == len(input_str) - 1:\n",
    "        return \"No uppercase character found\"\n",
    "    return find_uppercase_recursive(input_str, idx+1)"
   ]
  },
  {
   "cell_type": "code",
   "execution_count": 9,
   "metadata": {},
   "outputs": [],
   "source": [
    "def rec_length_of_string(s):\n",
    "    \n",
    "    # base case\n",
    "    \n",
    "    if s == \"\":\n",
    "        return 0\n",
    "    \n",
    "    return 1 + rec_length_of_string(s[1:])"
   ]
  },
  {
   "cell_type": "code",
   "execution_count": 10,
   "metadata": {},
   "outputs": [],
   "source": [
    "def rec_rt(n):\n",
    "    \n",
    "    # base case\n",
    "    if n == 0:\n",
    "        return 0\n",
    "    \n",
    "    #recursion\n",
    "    else:\n",
    "        print('n value: {}'.format(n))\n",
    "        print('function value {}'.format(rec_rt(n-1)))\n",
    "        return n + rec_rt(n-1)"
   ]
  },
  {
   "cell_type": "code",
   "execution_count": null,
   "metadata": {},
   "outputs": [],
   "source": []
  }
 ],
 "metadata": {
  "kernelspec": {
   "display_name": "Python 3",
   "language": "python",
   "name": "python3"
  },
  "language_info": {
   "codemirror_mode": {
    "name": "ipython",
    "version": 3
   },
   "file_extension": ".py",
   "mimetype": "text/x-python",
   "name": "python",
   "nbconvert_exporter": "python",
   "pygments_lexer": "ipython3",
   "version": "3.6.3"
  }
 },
 "nbformat": 4,
 "nbformat_minor": 2
}
